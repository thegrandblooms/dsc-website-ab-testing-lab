{
 "cells": [
  {
   "cell_type": "markdown",
   "metadata": {},
   "source": [
    "# Website A/B Testing - Lab\n",
    "\n",
    "## Introduction\n",
    "\n",
    "In this lab, you'll get another chance to practice your skills at conducting a full A/B test analysis. It will also be a chance to practice your data exploration and processing skills! The scenario you'll be investigating is data collected from the homepage of a music app page for audacity.\n",
    "\n",
    "## Objectives\n",
    "\n",
    "You will be able to:\n",
    "* Analyze the data from a website A/B test to draw relevant conclusions\n",
    "* Explore and analyze web action data"
   ]
  },
  {
   "cell_type": "markdown",
   "metadata": {},
   "source": [
    "## Exploratory Analysis\n",
    "\n",
    "Start by loading in the dataset stored in the file 'homepage_actions.csv'. Then conduct an exploratory analysis to get familiar with the data."
   ]
  },
  {
   "cell_type": "markdown",
   "metadata": {},
   "source": [
    "> Hints:\n",
    "    * Start investigating the id column:\n",
    "        * How many viewers also clicked?\n",
    "        * Are there any anomalies with the data; did anyone click who didn't view?\n",
    "        * Is there any overlap between the control and experiment groups? \n",
    "            * If so, how do you plan to account for this in your experimental design?"
   ]
  },
  {
   "cell_type": "code",
   "execution_count": 217,
   "metadata": {},
   "outputs": [],
   "source": [
    "import pandas as pd\n",
    "import seaborn as sns\n",
    "import numpy as np\n",
    "import scipy.stats as stats\n",
    "import matplotlib.pyplot as plt\n",
    "%matplotlib inline"
   ]
  },
  {
   "cell_type": "code",
   "execution_count": 116,
   "metadata": {
    "scrolled": true
   },
   "outputs": [
    {
     "name": "stdout",
     "output_type": "stream",
     "text": [
      "<class 'pandas.core.frame.DataFrame'>\n",
      "RangeIndex: 8188 entries, 0 to 8187\n",
      "Data columns (total 4 columns):\n",
      " #   Column     Non-Null Count  Dtype \n",
      "---  ------     --------------  ----- \n",
      " 0   timestamp  8188 non-null   object\n",
      " 1   id         8188 non-null   int64 \n",
      " 2   group      8188 non-null   object\n",
      " 3   action     8188 non-null   object\n",
      "dtypes: int64(1), object(3)\n",
      "memory usage: 256.0+ KB\n"
     ]
    }
   ],
   "source": [
    "df = pd.read_csv('homepage_actions.csv')\n",
    "df.info()"
   ]
  },
  {
   "cell_type": "code",
   "execution_count": 114,
   "metadata": {
    "scrolled": false
   },
   "outputs": [
    {
     "name": "stdout",
     "output_type": "stream",
     "text": [
      "view     2996\n",
      "click     928\n",
      "Name: action, dtype: int64\n",
      "view     3332\n",
      "click     932\n",
      "Name: action, dtype: int64\n"
     ]
    },
    {
     "data": {
      "text/html": [
       "<div>\n",
       "<style scoped>\n",
       "    .dataframe tbody tr th:only-of-type {\n",
       "        vertical-align: middle;\n",
       "    }\n",
       "\n",
       "    .dataframe tbody tr th {\n",
       "        vertical-align: top;\n",
       "    }\n",
       "\n",
       "    .dataframe thead th {\n",
       "        text-align: right;\n",
       "    }\n",
       "</style>\n",
       "<table border=\"1\" class=\"dataframe\">\n",
       "  <thead>\n",
       "    <tr style=\"text-align: right;\">\n",
       "      <th></th>\n",
       "      <th></th>\n",
       "      <th>timestamp</th>\n",
       "      <th>group</th>\n",
       "    </tr>\n",
       "    <tr>\n",
       "      <th>id</th>\n",
       "      <th>action</th>\n",
       "      <th></th>\n",
       "      <th></th>\n",
       "    </tr>\n",
       "  </thead>\n",
       "  <tbody>\n",
       "    <tr>\n",
       "      <th>182988</th>\n",
       "      <th>view</th>\n",
       "      <td>2016-11-26 14:38:47.682931</td>\n",
       "      <td>experiment</td>\n",
       "    </tr>\n",
       "    <tr>\n",
       "      <th rowspan=\"2\" valign=\"top\">182994</th>\n",
       "      <th>click</th>\n",
       "      <td>2016-12-14 13:20:29.564080</td>\n",
       "      <td>control</td>\n",
       "    </tr>\n",
       "    <tr>\n",
       "      <th>view</th>\n",
       "      <td>2016-12-14 13:19:00.940677</td>\n",
       "      <td>control</td>\n",
       "    </tr>\n",
       "    <tr>\n",
       "      <th>183089</th>\n",
       "      <th>view</th>\n",
       "      <td>2016-09-29 23:04:42.722325</td>\n",
       "      <td>control</td>\n",
       "    </tr>\n",
       "    <tr>\n",
       "      <th>183136</th>\n",
       "      <th>view</th>\n",
       "      <td>2016-12-27 10:13:58.808014</td>\n",
       "      <td>experiment</td>\n",
       "    </tr>\n",
       "    <tr>\n",
       "      <th>...</th>\n",
       "      <th>...</th>\n",
       "      <td>...</td>\n",
       "      <td>...</td>\n",
       "    </tr>\n",
       "    <tr>\n",
       "      <th>937108</th>\n",
       "      <th>view</th>\n",
       "      <td>2017-01-07 11:50:17.313666</td>\n",
       "      <td>control</td>\n",
       "    </tr>\n",
       "    <tr>\n",
       "      <th rowspan=\"2\" valign=\"top\">937139</th>\n",
       "      <th>click</th>\n",
       "      <td>2016-12-09 07:06:05.219267</td>\n",
       "      <td>experiment</td>\n",
       "    </tr>\n",
       "    <tr>\n",
       "      <th>view</th>\n",
       "      <td>2016-12-09 07:05:04.965876</td>\n",
       "      <td>experiment</td>\n",
       "    </tr>\n",
       "    <tr>\n",
       "      <th rowspan=\"2\" valign=\"top\">937217</th>\n",
       "      <th>click</th>\n",
       "      <td>2016-11-14 08:01:25.774204</td>\n",
       "      <td>control</td>\n",
       "    </tr>\n",
       "    <tr>\n",
       "      <th>view</th>\n",
       "      <td>2016-11-14 08:00:01.730193</td>\n",
       "      <td>control</td>\n",
       "    </tr>\n",
       "  </tbody>\n",
       "</table>\n",
       "<p>8188 rows × 2 columns</p>\n",
       "</div>"
      ],
      "text/plain": [
       "                                timestamp       group\n",
       "id     action                                        \n",
       "182988 view    2016-11-26 14:38:47.682931  experiment\n",
       "182994 click   2016-12-14 13:20:29.564080     control\n",
       "       view    2016-12-14 13:19:00.940677     control\n",
       "183089 view    2016-09-29 23:04:42.722325     control\n",
       "183136 view    2016-12-27 10:13:58.808014  experiment\n",
       "...                                   ...         ...\n",
       "937108 view    2017-01-07 11:50:17.313666     control\n",
       "937139 click   2016-12-09 07:06:05.219267  experiment\n",
       "       view    2016-12-09 07:05:04.965876  experiment\n",
       "937217 click   2016-11-14 08:01:25.774204     control\n",
       "       view    2016-11-14 08:00:01.730193     control\n",
       "\n",
       "[8188 rows x 2 columns]"
      ]
     },
     "execution_count": 114,
     "metadata": {},
     "output_type": "execute_result"
    }
   ],
   "source": [
    "# df['id'].value_counts()\n",
    "# df = df.drop_duplicates(subset=['id'])\n",
    "# df\n",
    "\n",
    "#Dataframes of actions\n",
    "view = df.loc[df['action'] == 'view']\n",
    "click = df.loc[df['action'] == 'click']\n",
    "\n",
    "#Dataframes of experiment vs control\n",
    "exp = df.loc[df['group'] == 'experiment']\n",
    "ctrl = df.loc[df['group'] == 'control']\n",
    "\n",
    "print(exp['action'].value_counts())\n",
    "print(ctrl['action'].value_counts())\n",
    "\n",
    "# Making groups to aggregate on IDs\n",
    "group = df.groupby(['id', 'action'])\n",
    "group.first()"
   ]
  },
  {
   "cell_type": "code",
   "execution_count": 115,
   "metadata": {},
   "outputs": [
    {
     "data": {
      "text/plain": [
       "view    4468\n",
       "Name: action, dtype: int64"
      ]
     },
     "execution_count": 115,
     "metadata": {},
     "output_type": "execute_result"
    }
   ],
   "source": [
    "# Looking at groups with one entry\n",
    "views = df.groupby('id').filter(lambda x: len(x) == 1)\n",
    "\n",
    "# Checking for clicks without views\n",
    "views['action'].value_counts()\n",
    "\n",
    "#Looks good :-)"
   ]
  },
  {
   "cell_type": "code",
   "execution_count": 163,
   "metadata": {},
   "outputs": [
    {
     "data": {
      "text/plain": [
       "0"
      ]
     },
     "execution_count": 163,
     "metadata": {},
     "output_type": "execute_result"
    }
   ],
   "source": [
    "# Checking for overlap:\n",
    "experiment_id = set(df[df.group=='experiment']['id'].unique())\n",
    "control_id = set(df[df.group=='control']['id'].unique())\n",
    "len(experiment_id & control_id)\n",
    "\n",
    "# No overlap!"
   ]
  },
  {
   "cell_type": "markdown",
   "metadata": {},
   "source": [
    "## Conduct a Statistical Test\n",
    "\n",
    "Conduct a statistical test to determine whether the experimental homepage was more effective than that of the control group."
   ]
  },
  {
   "cell_type": "code",
   "execution_count": 246,
   "metadata": {},
   "outputs": [
    {
     "name": "stdout",
     "output_type": "stream",
     "text": [
      "The p-value between the control and experiment is 0.0045\n"
     ]
    }
   ],
   "source": [
    "alpha = 0.05\n",
    "\n",
    "# From our previous grouping on id, we can look at ids with two actions\n",
    "clicks = df.groupby('id').filter(lambda x: len(x) == 2)\n",
    "# Removing view entries from click ids\n",
    "clicks = clicks[clicks.action=='click']\n",
    "\n",
    "# Looking at those ids who only view\n",
    "only_view = df.groupby('id').filter(lambda x: len(x) == 1)\n",
    "\n",
    "#combining these datasets to make a set without duplicates\n",
    "nodupes = clicks.append(only_view)\n",
    "\n",
    "nodupes['clickthrough'] = 0\n",
    "nodupes['clickthrough'].loc[nodupes['action'] =='click'] = 1\n",
    "\n",
    "# #Splitting into control and experiment dataframes\n",
    "control_group = nodupes[(nodupes.group == 'control')]\n",
    "experiment_group = nodupes[(nodupes.group == 'experiment')]\n",
    "\n",
    "# Grabbing p-value with ttest\n",
    "p_value = stats.ttest_ind(control_group['clickthrough'], experiment_group['clickthrough'], equal_var=False)\n",
    "\n",
    "# Dividing by two, for a one-sided test\n",
    "p_value = p_value[1] / 2\n",
    "\n",
    "print(f'The p-value between the control and experiment is {round(p_value, 4)}')"
   ]
  },
  {
   "cell_type": "markdown",
   "metadata": {},
   "source": [
    "## Verifying Results\n",
    "\n",
    "One sensible formulation of the data to answer the hypothesis test above would be to create a binary variable representing each individual in the experiment and control group. This binary variable would represent whether or not that individual clicked on the homepage; 1 for they did and 0 if they did not. \n",
    "\n",
    "The variance for the number of successes in a sample of a binomial variable with n observations is given by:\n",
    "\n",
    "## $n\\bullet p (1-p)$\n",
    "\n",
    "Given this, perform 3 steps to verify the results of your statistical test:\n",
    "1. Calculate the expected number of clicks for the experiment group, if it had the same click-through rate as that of the control group. \n",
    "2. Calculate the number of standard deviations that the actual number of clicks was from this estimate. \n",
    "3. Finally, calculate a p-value using the normal distribution based on this z-score."
   ]
  },
  {
   "cell_type": "markdown",
   "metadata": {},
   "source": [
    "### Step 1:\n",
    "Calculate the expected number of clicks for the experiment group, if it had the same click-through rate as that of the control group. "
   ]
  },
  {
   "cell_type": "code",
   "execution_count": 248,
   "metadata": {},
   "outputs": [
    {
     "data": {
      "text/plain": [
       "838.0168067226891"
      ]
     },
     "execution_count": 248,
     "metadata": {},
     "output_type": "execute_result"
    }
   ],
   "source": [
    "# Grabbing mean from clickthrough group\n",
    "con_ctr = control_group.clickthrough.mean()\n",
    "\n",
    "# use this mean as a multiplier on the length of the experiment group\n",
    "print(con_ctr * len(experiment_group))"
   ]
  },
  {
   "cell_type": "markdown",
   "metadata": {},
   "source": [
    "### Step 2:\n",
    "Calculate the number of standard deviations that the actual number of clicks was from this estimate."
   ]
  },
  {
   "cell_type": "code",
   "execution_count": 257,
   "metadata": {},
   "outputs": [
    {
     "data": {
      "text/plain": [
       "3.6625360854823588"
      ]
     },
     "execution_count": 257,
     "metadata": {},
     "output_type": "execute_result"
    }
   ],
   "source": [
    "# Calculating the standard deviation:\n",
    "standdev = np.sqrt(len(experiment_group) * con_ctr * (1-con_ctr))\n",
    "\n",
    "z_score = (experiment_group.clickthrough.sum() - con_ctr * len(experiment_group))/standdev\n",
    "z_score"
   ]
  },
  {
   "cell_type": "markdown",
   "metadata": {},
   "source": [
    "### Step 3: \n",
    "Finally, calculate a p-value using the normal distribution based on this z-score."
   ]
  },
  {
   "cell_type": "code",
   "execution_count": 259,
   "metadata": {},
   "outputs": [
    {
     "data": {
      "text/plain": [
       "0.00012486528006951198"
      ]
     },
     "execution_count": 259,
     "metadata": {},
     "output_type": "execute_result"
    }
   ],
   "source": [
    "p_value_2 = stats.norm.sf(z_score)\n",
    "p_value_2"
   ]
  },
  {
   "cell_type": "markdown",
   "metadata": {},
   "source": [
    "### Analysis:\n",
    "\n",
    "Does this result roughly match that of the previous statistical test?\n",
    "\n",
    "> Comment: **It doesn't change the result of the study, but it is a lower value. There may be instances where\n",
    "this sort of check would change the outcome of a study.**"
   ]
  },
  {
   "cell_type": "markdown",
   "metadata": {},
   "source": [
    "## Summary\n",
    "\n",
    "In this lab, you continued to get more practice designing and conducting AB tests. This required additional work preprocessing and formulating the initial problem in a suitable manner. Additionally, you also saw how to verify results, strengthening your knowledge of binomial variables, and reviewing initial statistical concepts of the central limit theorem, standard deviation, z-scores, and their accompanying p-values."
   ]
  }
 ],
 "metadata": {
  "kernelspec": {
   "display_name": "Python 3 (ipykernel)",
   "language": "python",
   "name": "python3"
  },
  "language_info": {
   "codemirror_mode": {
    "name": "ipython",
    "version": 3
   },
   "file_extension": ".py",
   "mimetype": "text/x-python",
   "name": "python",
   "nbconvert_exporter": "python",
   "pygments_lexer": "ipython3",
   "version": "3.9.7"
  }
 },
 "nbformat": 4,
 "nbformat_minor": 2
}
